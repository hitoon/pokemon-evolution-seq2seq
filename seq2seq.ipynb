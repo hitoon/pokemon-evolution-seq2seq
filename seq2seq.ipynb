{
 "cells": [
  {
   "cell_type": "code",
   "execution_count": 1,
   "metadata": {},
   "outputs": [
    {
     "name": "stderr",
     "output_type": "stream",
     "text": [
      "Using TensorFlow backend.\n"
     ]
    }
   ],
   "source": [
    "# coding:utf-8\n",
    "\n",
    "# keras公式：https://github.com/keras-team/keras/blob/master/examples/lstm_seq2seq.py を使用\n",
    "\n",
    "from __future__ import print_function\n",
    "from keras.models import Model\n",
    "from keras.layers import Input, LSTM, Dense\n",
    "import numpy as np"
   ]
  },
  {
   "cell_type": "code",
   "execution_count": 2,
   "metadata": {},
   "outputs": [],
   "source": [
    "epochs = 130  # Number of epochs to train for.\n",
    "\n",
    "batch_size = 64  # Batch size for training.\n",
    "latent_dim = 256  # Latent dimensionality of the encoding space.\n",
    "num_samples = 10000  # Number of samples to train on.\n",
    "\n",
    "# Path to the data txt file on disk.\n",
    "data_path = './dataset.txt'"
   ]
  },
  {
   "cell_type": "code",
   "execution_count": 3,
   "metadata": {},
   "outputs": [],
   "source": [
    "# Vectorize the data.\n",
    "input_texts = []\n",
    "target_texts = []\n",
    "input_characters = set()\n",
    "target_characters = set()\n",
    "with open(data_path, 'r', encoding='utf-8') as f:\n",
    "    lines = f.read().split('\\n')"
   ]
  },
  {
   "cell_type": "code",
   "execution_count": 4,
   "metadata": {},
   "outputs": [],
   "source": [
    "# dataset\n",
    "# mk_dataset.ipynbで作成\n",
    "with open(\"./dataset.txt\", 'r', encoding='utf-8') as f:\n",
    "    lines = f.read().split('\\n')"
   ]
  },
  {
   "cell_type": "code",
   "execution_count": 5,
   "metadata": {},
   "outputs": [
    {
     "data": {
      "text/plain": [
       "'フシギダネ\\tフシギソウ'"
      ]
     },
     "execution_count": 5,
     "metadata": {},
     "output_type": "execute_result"
    }
   ],
   "source": [
    "lines[0]"
   ]
  },
  {
   "cell_type": "code",
   "execution_count": 6,
   "metadata": {},
   "outputs": [
    {
     "name": "stdout",
     "output_type": "stream",
     "text": [
      "Number of samples: 330\n",
      "Number of unique input tokens: 74\n",
      "Number of unique output tokens: 79\n",
      "Max sequence length for inputs: 6\n",
      "Max sequence length for outputs: 9\n"
     ]
    }
   ],
   "source": [
    "for line in lines[: min(num_samples, len(lines) - 1)]:\n",
    "    input_text, target_text = line.split('\\t')\n",
    "    # We use \"tab\" as the \"start sequence\" character\n",
    "    # for the targets, and \"\\n\" as \"end sequence\" character.\n",
    "    target_text = '\\t' + target_text + '\\n'\n",
    "    input_texts.append(input_text)\n",
    "    target_texts.append(target_text)\n",
    "    for char in input_text:\n",
    "        if char not in input_characters:\n",
    "            input_characters.add(char)\n",
    "    for char in target_text:\n",
    "        if char not in target_characters:\n",
    "            target_characters.add(char)\n",
    "\n",
    "input_characters = sorted(list(input_characters))\n",
    "target_characters = sorted(list(target_characters))\n",
    "num_encoder_tokens = len(input_characters)\n",
    "num_decoder_tokens = len(target_characters)\n",
    "max_encoder_seq_length = max([len(txt) for txt in input_texts])\n",
    "max_decoder_seq_length = max([len(txt) for txt in target_texts])\n",
    "\n",
    "print('Number of samples:', len(input_texts))\n",
    "print('Number of unique input tokens:', num_encoder_tokens)\n",
    "print('Number of unique output tokens:', num_decoder_tokens)\n",
    "print('Max sequence length for inputs:', max_encoder_seq_length)\n",
    "print('Max sequence length for outputs:', max_decoder_seq_length)"
   ]
  },
  {
   "cell_type": "code",
   "execution_count": 7,
   "metadata": {},
   "outputs": [
    {
     "name": "stdout",
     "output_type": "stream",
     "text": [
      "['ア', 'ィ', 'イ', 'ウ', 'ェ', 'エ', 'オ', 'カ', 'ガ', 'キ', 'ギ', 'ク', 'グ', 'ケ', 'ゲ', 'コ', 'ゴ', 'サ', 'ザ', 'シ', 'ジ', 'ス', 'ズ', 'セ', 'ゼ', 'ソ', 'ゾ', 'タ', 'ダ', 'チ', 'ッ', 'ツ', 'テ', 'デ', 'ト', 'ド', 'ナ', 'ニ', 'ヌ', 'ネ', 'ノ', 'ハ', 'バ', 'パ', 'ヒ', 'ビ', 'ピ', 'フ', 'ブ', 'プ', 'ヘ', 'ベ', 'ホ', 'ボ', 'ポ', 'マ', 'ミ', 'ム', 'メ', 'モ', 'ャ', 'ヤ', 'ュ', 'ユ', 'ョ', 'ヨ', 'ラ', 'リ', 'ル', 'レ', 'ロ', 'ワ', 'ン', 'ー']\n"
     ]
    }
   ],
   "source": [
    "print(input_characters)"
   ]
  },
  {
   "cell_type": "code",
   "execution_count": 8,
   "metadata": {},
   "outputs": [],
   "source": [
    "input_token_index = dict(\n",
    "    [(char, i) for i, char in enumerate(input_characters)])\n",
    "target_token_index = dict(\n",
    "    [(char, i) for i, char in enumerate(target_characters)])\n",
    "\n",
    "encoder_input_data = np.zeros(\n",
    "    (len(input_texts), max_encoder_seq_length, num_encoder_tokens),\n",
    "    dtype='float32')\n",
    "decoder_input_data = np.zeros(\n",
    "    (len(input_texts), max_decoder_seq_length, num_decoder_tokens),\n",
    "    dtype='float32')\n",
    "decoder_target_data = np.zeros(\n",
    "    (len(input_texts), max_decoder_seq_length, num_decoder_tokens),\n",
    "    dtype='float32')\n",
    "\n",
    "for i, (input_text, target_text) in enumerate(zip(input_texts, target_texts)):\n",
    "    for t, char in enumerate(input_text):\n",
    "        encoder_input_data[i, t, input_token_index[char]] = 1.\n",
    "    for t, char in enumerate(target_text):\n",
    "        # decoder_target_data is ahead of decoder_input_data by one timestep\n",
    "        decoder_input_data[i, t, target_token_index[char]] = 1.\n",
    "        if t > 0:\n",
    "            # decoder_target_data will be ahead by one timestep\n",
    "            # and will not include the start character.\n",
    "            decoder_target_data[i, t - 1, target_token_index[char]] = 1."
   ]
  },
  {
   "cell_type": "code",
   "execution_count": 9,
   "metadata": {},
   "outputs": [
    {
     "data": {
      "text/plain": [
       "(330, 6, 74)"
      ]
     },
     "execution_count": 9,
     "metadata": {},
     "output_type": "execute_result"
    }
   ],
   "source": [
    "encoder_input_data.shape"
   ]
  },
  {
   "cell_type": "code",
   "execution_count": 10,
   "metadata": {},
   "outputs": [
    {
     "data": {
      "text/plain": [
       "(330, 9, 79)"
      ]
     },
     "execution_count": 10,
     "metadata": {},
     "output_type": "execute_result"
    }
   ],
   "source": [
    "decoder_input_data.shape"
   ]
  },
  {
   "cell_type": "code",
   "execution_count": 11,
   "metadata": {},
   "outputs": [
    {
     "data": {
      "text/plain": [
       "(330, 9, 79)"
      ]
     },
     "execution_count": 11,
     "metadata": {},
     "output_type": "execute_result"
    }
   ],
   "source": [
    "decoder_target_data.shape"
   ]
  },
  {
   "cell_type": "code",
   "execution_count": 12,
   "metadata": {},
   "outputs": [
    {
     "name": "stdout",
     "output_type": "stream",
     "text": [
      "__________________________________________________________________________________________________\n",
      "Layer (type)                    Output Shape         Param #     Connected to                     \n",
      "==================================================================================================\n",
      "input_1 (InputLayer)            (None, None, 74)     0                                            \n",
      "__________________________________________________________________________________________________\n",
      "input_2 (InputLayer)            (None, None, 79)     0                                            \n",
      "__________________________________________________________________________________________________\n",
      "lstm_1 (LSTM)                   [(None, 256), (None, 338944      input_1[0][0]                    \n",
      "__________________________________________________________________________________________________\n",
      "lstm_2 (LSTM)                   [(None, None, 256),  344064      input_2[0][0]                    \n",
      "                                                                 lstm_1[0][1]                     \n",
      "                                                                 lstm_1[0][2]                     \n",
      "__________________________________________________________________________________________________\n",
      "dense_1 (Dense)                 (None, None, 79)     20303       lstm_2[0][0]                     \n",
      "==================================================================================================\n",
      "Total params: 703,311\n",
      "Trainable params: 703,311\n",
      "Non-trainable params: 0\n",
      "__________________________________________________________________________________________________\n"
     ]
    }
   ],
   "source": [
    "# Define an input sequence and process it.\n",
    "encoder_inputs = Input(shape=(None, num_encoder_tokens))\n",
    "encoder = LSTM(latent_dim, return_state=True)\n",
    "encoder_outputs, state_h, state_c = encoder(encoder_inputs)\n",
    "# We discard `encoder_outputs` and only keep the states.\n",
    "encoder_states = [state_h, state_c]\n",
    "\n",
    "# Set up the decoder, using `encoder_states` as initial state.\n",
    "decoder_inputs = Input(shape=(None, num_decoder_tokens))\n",
    "# We set up our decoder to return full output sequences,\n",
    "# and to return internal states as well. We don't use the\n",
    "# return states in the training model, but we will use them in inference.\n",
    "decoder_lstm = LSTM(latent_dim, return_sequences=True, return_state=True)\n",
    "decoder_outputs, _, _ = decoder_lstm(decoder_inputs, initial_state=encoder_states)\n",
    "decoder_dense = Dense(num_decoder_tokens, activation='softmax')\n",
    "decoder_outputs = decoder_dense(decoder_outputs)\n",
    "\n",
    "# Define the model that will turn\n",
    "# `encoder_input_data` & `decoder_input_data` into `decoder_target_data`\n",
    "model = Model([encoder_inputs, decoder_inputs], decoder_outputs)\n",
    "\n",
    "# Run training\n",
    "model.compile(optimizer='rmsprop', loss='categorical_crossentropy')\n",
    "model.summary()"
   ]
  },
  {
   "cell_type": "code",
   "execution_count": 13,
   "metadata": {},
   "outputs": [],
   "source": [
    "#model.fit([encoder_input_data, decoder_input_data], decoder_target_data, batch_size=batch_size, epochs=epochs, validation_split=0.2)\n",
    "# Save model\n",
    "#model.save('s2s.h5')"
   ]
  },
  {
   "cell_type": "code",
   "execution_count": 14,
   "metadata": {
    "scrolled": false
   },
   "outputs": [
    {
     "name": "stdout",
     "output_type": "stream",
     "text": [
      "Epoch 1/130\n",
      "330/330 [==============================] - 2s 5ms/step - loss: 2.6925\n",
      "Epoch 2/130\n",
      "330/330 [==============================] - 0s 1ms/step - loss: 2.2713\n",
      "Epoch 3/130\n",
      "330/330 [==============================] - 0s 1ms/step - loss: 2.2031\n",
      "Epoch 4/130\n",
      "330/330 [==============================] - 0s 2ms/step - loss: 2.2137\n",
      "Epoch 5/130\n",
      "330/330 [==============================] - 0s 1ms/step - loss: 2.1581\n",
      "Epoch 6/130\n",
      "330/330 [==============================] - 0s 1ms/step - loss: 2.2031\n",
      "Epoch 7/130\n",
      "330/330 [==============================] - 0s 1ms/step - loss: 2.1516\n",
      "Epoch 8/130\n",
      "330/330 [==============================] - 0s 1ms/step - loss: 2.1512\n",
      "Epoch 9/130\n",
      "330/330 [==============================] - 0s 1ms/step - loss: 2.1360\n",
      "Epoch 10/130\n",
      "330/330 [==============================] - 0s 1ms/step - loss: 2.1132\n",
      "Epoch 11/130\n",
      "330/330 [==============================] - 0s 1ms/step - loss: 2.1094\n",
      "Epoch 12/130\n",
      "330/330 [==============================] - 0s 1ms/step - loss: 2.1026\n",
      "Epoch 13/130\n",
      "330/330 [==============================] - 0s 1ms/step - loss: 2.1060\n",
      "Epoch 14/130\n",
      "330/330 [==============================] - 0s 1ms/step - loss: 2.0764\n",
      "Epoch 15/130\n",
      "330/330 [==============================] - 0s 1ms/step - loss: 2.0974\n",
      "Epoch 16/130\n",
      "330/330 [==============================] - 0s 1ms/step - loss: 2.0759\n",
      "Epoch 17/130\n",
      "330/330 [==============================] - 0s 1ms/step - loss: 2.0536\n",
      "Epoch 18/130\n",
      "330/330 [==============================] - 0s 1ms/step - loss: 2.0864\n",
      "Epoch 19/130\n",
      "330/330 [==============================] - 0s 1ms/step - loss: 2.0383\n",
      "Epoch 20/130\n",
      "330/330 [==============================] - 0s 1ms/step - loss: 2.0765\n",
      "Epoch 21/130\n",
      "330/330 [==============================] - 0s 1ms/step - loss: 2.0255\n",
      "Epoch 22/130\n",
      "330/330 [==============================] - 0s 1ms/step - loss: 2.0586\n",
      "Epoch 23/130\n",
      "330/330 [==============================] - 0s 1ms/step - loss: 2.0183\n",
      "Epoch 24/130\n",
      "330/330 [==============================] - 0s 1ms/step - loss: 2.0015\n",
      "Epoch 25/130\n",
      "330/330 [==============================] - 0s 1ms/step - loss: 2.0117\n",
      "Epoch 26/130\n",
      "330/330 [==============================] - 0s 1ms/step - loss: 1.9747\n",
      "Epoch 27/130\n",
      "330/330 [==============================] - 0s 1ms/step - loss: 1.9795\n",
      "Epoch 28/130\n",
      "330/330 [==============================] - 0s 1ms/step - loss: 1.9673\n",
      "Epoch 29/130\n",
      "330/330 [==============================] - 0s 1ms/step - loss: 1.9453\n",
      "Epoch 30/130\n",
      "330/330 [==============================] - 0s 1ms/step - loss: 1.9503\n",
      "Epoch 31/130\n",
      "330/330 [==============================] - 0s 1ms/step - loss: 1.9240\n",
      "Epoch 32/130\n",
      "330/330 [==============================] - 0s 1ms/step - loss: 1.9165\n",
      "Epoch 33/130\n",
      "330/330 [==============================] - 0s 1ms/step - loss: 1.8946\n",
      "Epoch 34/130\n",
      "330/330 [==============================] - 0s 1ms/step - loss: 1.8973\n",
      "Epoch 35/130\n",
      "330/330 [==============================] - 0s 1ms/step - loss: 1.8740\n",
      "Epoch 36/130\n",
      "330/330 [==============================] - 0s 1ms/step - loss: 1.8488\n",
      "Epoch 37/130\n",
      "330/330 [==============================] - 0s 1ms/step - loss: 1.8467\n",
      "Epoch 38/130\n",
      "330/330 [==============================] - 0s 1ms/step - loss: 1.8334\n",
      "Epoch 39/130\n",
      "330/330 [==============================] - 0s 1ms/step - loss: 1.8076\n",
      "Epoch 40/130\n",
      "330/330 [==============================] - 0s 1ms/step - loss: 1.7903\n",
      "Epoch 41/130\n",
      "330/330 [==============================] - 0s 1ms/step - loss: 1.7730\n",
      "Epoch 42/130\n",
      "330/330 [==============================] - 0s 1ms/step - loss: 1.7642\n",
      "Epoch 43/130\n",
      "330/330 [==============================] - 0s 1ms/step - loss: 1.7315\n",
      "Epoch 44/130\n",
      "330/330 [==============================] - 0s 1ms/step - loss: 1.7187\n",
      "Epoch 45/130\n",
      "330/330 [==============================] - 0s 1ms/step - loss: 1.7189\n",
      "Epoch 46/130\n",
      "330/330 [==============================] - 0s 1ms/step - loss: 1.6757\n",
      "Epoch 47/130\n",
      "330/330 [==============================] - 0s 1ms/step - loss: 1.6491\n",
      "Epoch 48/130\n",
      "330/330 [==============================] - 0s 1ms/step - loss: 1.6532\n",
      "Epoch 49/130\n",
      "330/330 [==============================] - 0s 1ms/step - loss: 1.6094\n",
      "Epoch 50/130\n",
      "330/330 [==============================] - 0s 1ms/step - loss: 1.6054\n",
      "Epoch 51/130\n",
      "330/330 [==============================] - 0s 1ms/step - loss: 1.5796\n",
      "Epoch 52/130\n",
      "330/330 [==============================] - 0s 1ms/step - loss: 1.5513\n",
      "Epoch 53/130\n",
      "330/330 [==============================] - 0s 1ms/step - loss: 1.5540\n",
      "Epoch 54/130\n",
      "330/330 [==============================] - 0s 1ms/step - loss: 1.5127\n",
      "Epoch 55/130\n",
      "330/330 [==============================] - 0s 1ms/step - loss: 1.4962\n",
      "Epoch 56/130\n",
      "330/330 [==============================] - 0s 1ms/step - loss: 1.4455\n",
      "Epoch 57/130\n",
      "330/330 [==============================] - 0s 1ms/step - loss: 1.4483\n",
      "Epoch 58/130\n",
      "330/330 [==============================] - 0s 1ms/step - loss: 1.4458\n",
      "Epoch 59/130\n",
      "330/330 [==============================] - 0s 1ms/step - loss: 1.4020\n",
      "Epoch 60/130\n",
      "330/330 [==============================] - 0s 1ms/step - loss: 1.3857\n",
      "Epoch 61/130\n",
      "330/330 [==============================] - 0s 1ms/step - loss: 1.3563\n",
      "Epoch 62/130\n",
      "330/330 [==============================] - 0s 1ms/step - loss: 1.3481\n",
      "Epoch 63/130\n",
      "330/330 [==============================] - 0s 1ms/step - loss: 1.3201\n",
      "Epoch 64/130\n",
      "330/330 [==============================] - 0s 1ms/step - loss: 1.3086\n",
      "Epoch 65/130\n",
      "330/330 [==============================] - 0s 1ms/step - loss: 1.2554\n",
      "Epoch 66/130\n",
      "330/330 [==============================] - 0s 1ms/step - loss: 1.2233\n",
      "Epoch 67/130\n",
      "330/330 [==============================] - 0s 1ms/step - loss: 1.2722\n",
      "Epoch 68/130\n",
      "330/330 [==============================] - 0s 1ms/step - loss: 1.1806\n",
      "Epoch 69/130\n",
      "330/330 [==============================] - 0s 1ms/step - loss: 1.1763\n",
      "Epoch 70/130\n",
      "330/330 [==============================] - 0s 1ms/step - loss: 1.1934\n",
      "Epoch 71/130\n",
      "330/330 [==============================] - 0s 1ms/step - loss: 1.1223\n",
      "Epoch 72/130\n",
      "330/330 [==============================] - 0s 1ms/step - loss: 1.1482\n",
      "Epoch 73/130\n",
      "330/330 [==============================] - 0s 1ms/step - loss: 1.0982\n",
      "Epoch 74/130\n",
      "330/330 [==============================] - 1s 2ms/step - loss: 1.0395\n",
      "Epoch 75/130\n",
      "330/330 [==============================] - 1s 2ms/step - loss: 1.0824\n",
      "Epoch 76/130\n",
      "330/330 [==============================] - 1s 2ms/step - loss: 0.9983\n",
      "Epoch 77/130\n",
      "330/330 [==============================] - 1s 2ms/step - loss: 1.0436\n",
      "Epoch 78/130\n",
      "330/330 [==============================] - 1s 2ms/step - loss: 0.9670\n",
      "Epoch 79/130\n",
      "330/330 [==============================] - 1s 2ms/step - loss: 0.9635\n",
      "Epoch 80/130\n",
      "330/330 [==============================] - 1s 2ms/step - loss: 0.9758\n",
      "Epoch 81/130\n",
      "330/330 [==============================] - 1s 2ms/step - loss: 0.9117\n",
      "Epoch 82/130\n",
      "330/330 [==============================] - 1s 2ms/step - loss: 0.8784\n",
      "Epoch 83/130\n",
      "330/330 [==============================] - 0s 1ms/step - loss: 0.8683\n",
      "Epoch 84/130\n",
      "330/330 [==============================] - 1s 2ms/step - loss: 0.8965\n",
      "Epoch 85/130\n",
      "330/330 [==============================] - 1s 2ms/step - loss: 0.8392\n",
      "Epoch 86/130\n",
      "330/330 [==============================] - 1s 2ms/step - loss: 0.7890\n",
      "Epoch 87/130\n",
      "330/330 [==============================] - 1s 2ms/step - loss: 0.8096\n",
      "Epoch 88/130\n",
      "330/330 [==============================] - 0s 1ms/step - loss: 0.7775\n",
      "Epoch 89/130\n",
      "330/330 [==============================] - 0s 1ms/step - loss: 0.7464\n",
      "Epoch 90/130\n",
      "330/330 [==============================] - 0s 1ms/step - loss: 0.7851\n",
      "Epoch 91/130\n",
      "330/330 [==============================] - 0s 1ms/step - loss: 0.7111\n",
      "Epoch 92/130\n",
      "330/330 [==============================] - 1s 2ms/step - loss: 0.6966\n",
      "Epoch 93/130\n",
      "330/330 [==============================] - 1s 2ms/step - loss: 0.7160\n",
      "Epoch 94/130\n",
      "330/330 [==============================] - 1s 2ms/step - loss: 0.6482\n",
      "Epoch 95/130\n",
      "330/330 [==============================] - 1s 2ms/step - loss: 0.6283\n",
      "Epoch 96/130\n",
      "330/330 [==============================] - 1s 2ms/step - loss: 0.6519\n",
      "Epoch 97/130\n",
      "330/330 [==============================] - 0s 2ms/step - loss: 0.6555\n",
      "Epoch 98/130\n",
      "330/330 [==============================] - 0s 1ms/step - loss: 0.5756\n",
      "Epoch 99/130\n"
     ]
    },
    {
     "name": "stdout",
     "output_type": "stream",
     "text": [
      "330/330 [==============================] - 1s 2ms/step - loss: 0.5539\n",
      "Epoch 100/130\n",
      "330/330 [==============================] - 1s 2ms/step - loss: 0.6044\n",
      "Epoch 101/130\n",
      "330/330 [==============================] - 1s 2ms/step - loss: 0.5609\n",
      "Epoch 102/130\n",
      "330/330 [==============================] - 1s 2ms/step - loss: 0.5121\n",
      "Epoch 103/130\n",
      "330/330 [==============================] - 1s 2ms/step - loss: 0.4919\n",
      "Epoch 104/130\n",
      "330/330 [==============================] - 1s 2ms/step - loss: 0.4881\n",
      "Epoch 105/130\n",
      "330/330 [==============================] - 0s 1ms/step - loss: 0.5721\n",
      "Epoch 106/130\n",
      "330/330 [==============================] - 1s 2ms/step - loss: 0.4756\n",
      "Epoch 107/130\n",
      "330/330 [==============================] - 1s 2ms/step - loss: 0.4329\n",
      "Epoch 108/130\n",
      "330/330 [==============================] - 1s 2ms/step - loss: 0.4081\n",
      "Epoch 109/130\n",
      "330/330 [==============================] - 1s 2ms/step - loss: 0.4412\n",
      "Epoch 110/130\n",
      "330/330 [==============================] - 0s 1ms/step - loss: 0.4035\n",
      "Epoch 111/130\n",
      "330/330 [==============================] - 1s 2ms/step - loss: 0.4034\n",
      "Epoch 112/130\n",
      "330/330 [==============================] - 0s 1ms/step - loss: 0.4145\n",
      "Epoch 113/130\n",
      "330/330 [==============================] - 1s 2ms/step - loss: 0.3831\n",
      "Epoch 114/130\n",
      "330/330 [==============================] - 0s 1ms/step - loss: 0.3279\n",
      "Epoch 115/130\n",
      "330/330 [==============================] - 1s 2ms/step - loss: 0.3153\n",
      "Epoch 116/130\n",
      "330/330 [==============================] - 0s 1ms/step - loss: 0.3376\n",
      "Epoch 117/130\n",
      "330/330 [==============================] - 0s 1ms/step - loss: 0.3059\n",
      "Epoch 118/130\n",
      "330/330 [==============================] - 0s 1ms/step - loss: 0.3073\n",
      "Epoch 119/130\n",
      "330/330 [==============================] - 0s 1ms/step - loss: 0.2857\n",
      "Epoch 120/130\n",
      "330/330 [==============================] - 0s 1ms/step - loss: 0.3398\n",
      "Epoch 121/130\n",
      "330/330 [==============================] - 0s 1ms/step - loss: 0.2986\n",
      "Epoch 122/130\n",
      "330/330 [==============================] - 0s 1ms/step - loss: 0.2349\n",
      "Epoch 123/130\n",
      "330/330 [==============================] - 0s 1ms/step - loss: 0.2317\n",
      "Epoch 124/130\n",
      "330/330 [==============================] - 0s 1ms/step - loss: 0.2272\n",
      "Epoch 125/130\n",
      "330/330 [==============================] - 0s 1ms/step - loss: 0.2476\n",
      "Epoch 126/130\n",
      "330/330 [==============================] - 0s 1ms/step - loss: 0.2098\n",
      "Epoch 127/130\n",
      "330/330 [==============================] - 0s 1ms/step - loss: 0.2107\n",
      "Epoch 128/130\n",
      "330/330 [==============================] - 0s 1ms/step - loss: 0.2599\n",
      "Epoch 129/130\n",
      "330/330 [==============================] - 0s 1ms/step - loss: 0.1879\n",
      "Epoch 130/130\n",
      "330/330 [==============================] - 0s 1ms/step - loss: 0.1760\n"
     ]
    },
    {
     "data": {
      "text/plain": [
       "<keras.callbacks.History at 0x121ff8cf8>"
      ]
     },
     "execution_count": 14,
     "metadata": {},
     "output_type": "execute_result"
    }
   ],
   "source": [
    "model.fit([encoder_input_data, decoder_input_data], decoder_target_data, batch_size=batch_size, epochs=epochs)"
   ]
  },
  {
   "cell_type": "code",
   "execution_count": 15,
   "metadata": {},
   "outputs": [],
   "source": [
    "# Next: inference mode (sampling).\n",
    "# Here's the drill:\n",
    "# 1) encode input and retrieve initial decoder state\n",
    "# 2) run one step of decoder with this initial state\n",
    "# and a \"start of sequence\" token as target.\n",
    "# Output will be the next target token\n",
    "# 3) Repeat with the current target token and current states\n",
    "\n",
    "# Define sampling models\n",
    "encoder_model = Model(encoder_inputs, encoder_states)\n",
    "\n",
    "decoder_state_input_h = Input(shape=(latent_dim,))\n",
    "decoder_state_input_c = Input(shape=(latent_dim,))\n",
    "decoder_states_inputs = [decoder_state_input_h, decoder_state_input_c]\n",
    "decoder_outputs, state_h, state_c = decoder_lstm(\n",
    "    decoder_inputs, initial_state=decoder_states_inputs)\n",
    "decoder_states = [state_h, state_c]\n",
    "decoder_outputs = decoder_dense(decoder_outputs)\n",
    "decoder_model = Model(\n",
    "    [decoder_inputs] + decoder_states_inputs,\n",
    "    [decoder_outputs] + decoder_states)\n",
    "\n",
    "# Reverse-lookup token index to decode sequences back to\n",
    "# something readable.\n",
    "reverse_input_char_index = dict(\n",
    "    (i, char) for char, i in input_token_index.items())\n",
    "reverse_target_char_index = dict(\n",
    "    (i, char) for char, i in target_token_index.items())"
   ]
  },
  {
   "cell_type": "code",
   "execution_count": 16,
   "metadata": {},
   "outputs": [],
   "source": [
    "def decode_sequence(input_seq):\n",
    "    # Encode the input as state vectors.\n",
    "    states_value = encoder_model.predict(input_seq)\n",
    "\n",
    "    # Generate empty target sequence of length 1.\n",
    "    target_seq = np.zeros((1, 1, num_decoder_tokens))\n",
    "    # Populate the first character of target sequence with the start character.\n",
    "    target_seq[0, 0, target_token_index['\\t']] = 1.\n",
    "\n",
    "    # Sampling loop for a batch of sequences\n",
    "    # (to simplify, here we assume a batch of size 1).\n",
    "    stop_condition = False\n",
    "    decoded_sentence = ''\n",
    "    while not stop_condition:\n",
    "        output_tokens, h, c = decoder_model.predict(\n",
    "            [target_seq] + states_value)\n",
    "\n",
    "        # Sample a token\n",
    "        sampled_token_index = np.argmax(output_tokens[0, -1, :])\n",
    "        sampled_char = reverse_target_char_index[sampled_token_index]\n",
    "        decoded_sentence += sampled_char\n",
    "\n",
    "        # Exit condition: either hit max length\n",
    "        # or find stop character.\n",
    "        if (sampled_char == '\\n' or\n",
    "           len(decoded_sentence) > max_decoder_seq_length):\n",
    "            stop_condition = True\n",
    "\n",
    "        # Update the target sequence (of length 1).\n",
    "        target_seq = np.zeros((1, 1, num_decoder_tokens))\n",
    "        target_seq[0, 0, sampled_token_index] = 1.\n",
    "\n",
    "        # Update states\n",
    "        states_value = [h, c]\n",
    "\n",
    "    return decoded_sentence"
   ]
  },
  {
   "cell_type": "code",
   "execution_count": 17,
   "metadata": {},
   "outputs": [
    {
     "name": "stdout",
     "output_type": "stream",
     "text": [
      "-\n",
      "Input sentence: フシギダネ\n",
      "Decoded sentence: フシギソウ\n",
      "\n",
      "-\n",
      "Input sentence: フシギソウ\n",
      "Decoded sentence: フシギバナ\n",
      "\n",
      "-\n",
      "Input sentence: ヒトカゲ\n",
      "Decoded sentence: リザード\n",
      "\n",
      "-\n",
      "Input sentence: リザード\n",
      "Decoded sentence: リザードン\n",
      "\n",
      "-\n",
      "Input sentence: ゼニガメ\n",
      "Decoded sentence: カメール\n",
      "\n",
      "-\n",
      "Input sentence: カメール\n",
      "Decoded sentence: カメックス\n",
      "\n",
      "-\n",
      "Input sentence: キャタピー\n",
      "Decoded sentence: トランセル\n",
      "\n",
      "-\n",
      "Input sentence: トランセル\n",
      "Decoded sentence: バタフリー\n",
      "\n",
      "-\n",
      "Input sentence: ビードル\n",
      "Decoded sentence: コクーン\n",
      "\n",
      "-\n",
      "Input sentence: コクーン\n",
      "Decoded sentence: スピアー\n",
      "\n"
     ]
    }
   ],
   "source": [
    "for seq_index in range(10):\n",
    "    # Take one sequence (part of the training set)\n",
    "    # for trying out decoding.\n",
    "    input_seq = encoder_input_data[seq_index: seq_index + 1]\n",
    "    decoded_sentence = decode_sequence(input_seq)\n",
    "    print('-')\n",
    "    print('Input sentence:', input_texts[seq_index])\n",
    "    print('Decoded sentence:', decoded_sentence)"
   ]
  },
  {
   "cell_type": "code",
   "execution_count": 18,
   "metadata": {},
   "outputs": [],
   "source": [
    "def test_model(input_sentence):\n",
    "    test_sentence_tokenized = np.zeros(\n",
    "      (1, max_encoder_seq_length, num_encoder_tokens), dtype='float32')\n",
    "    for t, char in enumerate(input_sentence):\n",
    "        test_sentence_tokenized[0, t, input_token_index[char]] = 1.\n",
    "    #print(input_sentence)\n",
    "    print(decode_sequence(test_sentence_tokenized))"
   ]
  },
  {
   "cell_type": "code",
   "execution_count": 19,
   "metadata": {},
   "outputs": [
    {
     "name": "stdout",
     "output_type": "stream",
     "text": [
      "スリーパ\n",
      "\n"
     ]
    }
   ],
   "source": [
    "test_model(\"リスプ\")"
   ]
  },
  {
   "cell_type": "code",
   "execution_count": 20,
   "metadata": {},
   "outputs": [
    {
     "name": "stdout",
     "output_type": "stream",
     "text": [
      "シンテー\n",
      "\n"
     ]
    }
   ],
   "source": [
    "test_model(\"パイソン\")"
   ]
  },
  {
   "cell_type": "code",
   "execution_count": 21,
   "metadata": {},
   "outputs": [
    {
     "name": "stdout",
     "output_type": "stream",
     "text": [
      "トリプー\n",
      "\n"
     ]
    }
   ],
   "source": [
    "test_model(\"ヒトシ\")"
   ]
  },
  {
   "cell_type": "code",
   "execution_count": 22,
   "metadata": {},
   "outputs": [
    {
     "name": "stdout",
     "output_type": "stream",
     "text": [
      "フシギバナ\n",
      "\n"
     ]
    }
   ],
   "source": [
    "test_model(\"フシギ\")"
   ]
  },
  {
   "cell_type": "code",
   "execution_count": 23,
   "metadata": {},
   "outputs": [
    {
     "name": "stdout",
     "output_type": "stream",
     "text": [
      "フイバー\n",
      "\n"
     ]
    }
   ],
   "source": [
    "test_model(\"フシ\")"
   ]
  },
  {
   "cell_type": "code",
   "execution_count": 24,
   "metadata": {},
   "outputs": [
    {
     "name": "stdout",
     "output_type": "stream",
     "text": [
      "ギギアル\n",
      "\n"
     ]
    }
   ],
   "source": [
    "test_model(\"シギ\")"
   ]
  }
 ],
 "metadata": {
  "kernelspec": {
   "display_name": "Python 3",
   "language": "python",
   "name": "python3"
  },
  "language_info": {
   "codemirror_mode": {
    "name": "ipython",
    "version": 3
   },
   "file_extension": ".py",
   "mimetype": "text/x-python",
   "name": "python",
   "nbconvert_exporter": "python",
   "pygments_lexer": "ipython3",
   "version": "3.6.7"
  }
 },
 "nbformat": 4,
 "nbformat_minor": 2
}
